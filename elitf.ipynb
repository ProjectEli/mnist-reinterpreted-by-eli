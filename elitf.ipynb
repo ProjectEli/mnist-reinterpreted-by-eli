{
 "cells": [
  {
   "cell_type": "markdown",
   "id": "db1d517c-d0f3-4b8e-bb47-d56c65cd46cb",
   "metadata": {},
   "source": [
    "# MNIST reinterpreted by Eli"
   ]
  },
  {
   "cell_type": "markdown",
   "id": "df7f26e4-8ce5-4dc4-ab0a-f591fa9a52d3",
   "metadata": {},
   "source": [
    "* Basic code: https://www.tensorflow.org/overview\n",
    "* plot method: https://www.tensorflow.org/tutorials/load_data/images\n",
    "* visualization for mnist: https://webnautes.tistory.com/1232"
   ]
  },
  {
   "cell_type": "markdown",
   "id": "edeb040b-a222-4f70-aa18-9fb25eb4db86",
   "metadata": {},
   "source": [
    "## Import required module"
   ]
  },
  {
   "cell_type": "code",
   "execution_count": 1,
   "id": "4381c06f-0ef1-4969-a5a9-032a0f38364f",
   "metadata": {},
   "outputs": [],
   "source": [
    "import tensorflow as tf\n",
    "mnist = tf.keras.datasets.mnist"
   ]
  },
  {
   "cell_type": "markdown",
   "id": "96eafadd-cb72-4065-ba6b-38b658af6835",
   "metadata": {},
   "source": [
    "## Preprocess training data\n",
    "since black images are set to RGB 0-255 integer, normalize it to 0-1 range for keras model"
   ]
  },
  {
   "cell_type": "code",
   "execution_count": 2,
   "id": "eccfe649-de1b-4657-bb14-1830097a9903",
   "metadata": {
    "tags": []
   },
   "outputs": [],
   "source": [
    "(x_train, y_train),(x_test, y_test) = mnist.load_data()\n",
    "x_train,x_test = x_train/255.0, x_test/255.0"
   ]
  },
  {
   "cell_type": "markdown",
   "id": "c5cb0f50-c5a7-43c8-a7e0-7a5d3734e0d1",
   "metadata": {},
   "source": [
    "### set class names\n",
    "keras sequential model will automatically sort class label with alphabetical order"
   ]
  },
  {
   "cell_type": "code",
   "execution_count": 3,
   "id": "63297c4d-1818-4740-90a9-e31d9e718554",
   "metadata": {},
   "outputs": [
    {
     "name": "stdout",
     "output_type": "stream",
     "text": [
      "[0 1 2 3 4 5 6 7 8 9]\n"
     ]
    }
   ],
   "source": [
    "import numpy\n",
    "class_names = numpy.unique(y_train)\n",
    "print(class_names)"
   ]
  },
  {
   "cell_type": "markdown",
   "id": "222d52ee-1747-452d-b148-0e29bbb5f890",
   "metadata": {},
   "source": [
    "### test data shape"
   ]
  },
  {
   "cell_type": "code",
   "execution_count": 4,
   "id": "6cbaa3bf-04b1-483d-9f63-a409ce9ea5e3",
   "metadata": {},
   "outputs": [
    {
     "name": "stdout",
     "output_type": "stream",
     "text": [
      "<class 'numpy.ndarray'>\n",
      "(60000, 28, 28)\n",
      "(28, 28)\n",
      "(60000,)\n"
     ]
    }
   ],
   "source": [
    "print(type(x_train))\n",
    "print(x_train.shape)\n",
    "print(x_train[1].shape)\n",
    "print(y_train.shape)"
   ]
  },
  {
   "cell_type": "markdown",
   "id": "e8baf04f-0c62-4c34-962a-13b692a73e4b",
   "metadata": {},
   "source": [
    "### train data plot"
   ]
  },
  {
   "cell_type": "code",
   "execution_count": 5,
   "id": "154060cb-dcc2-4e27-9ffb-4d5cf4002005",
   "metadata": {},
   "outputs": [
    {
     "data": {
      "image/png": "[encoded data removed]",
      "text/plain": [
       "<Figure size 720x720 with 9 Axes>"
      ]
     },
     "metadata": {},
     "output_type": "display_data"
    }
   ],
   "source": [
    "import matplotlib.pyplot as plt\n",
    "fig1= plt.figure(figsize=(10,10))\n",
    "fig1.patch.set_facecolor('xkcd:white')\n",
    "for i in range(9):\n",
    "    ax = plt.subplot(3,3,i+1)\n",
    "    plt.imshow(x_train[i],cmap='Greys')\n",
    "    plt.title('true label: {}'.format(y_train[i]))\n",
    "    plt.axis('off')"
   ]
  },
  {
   "cell_type": "markdown",
   "id": "977269fb-15df-4985-bfa7-5a0a417c6ea6",
   "metadata": {},
   "source": [
    "## Setup keras model\n",
    "each mnist image is consist of 28,28 size => pipeline 1  \n",
    "pipeline 1 => make keras network with 128 units, and activation function as relu => pipeline2  \n",
    "pipeline 2 => make 20% of nodes to 0 to prevent overfitting => pipeline 3  \n",
    "pipeline 3 => make keras network with 10 nodes, activation function as softmax  \n",
    "\n",
    "input size = 60000  \n",
    "layer1 = 128 nodes  \n",
    "output size = 10 (mnist number of label 0-9)\n",
    "- [X] number of last layer should be same as the number of category unit  \n",
    "\n",
    "category unit will be determined at future compile method: sparse_categorical_crossentropy"
   ]
  },
  {
   "cell_type": "code",
   "execution_count": 6,
   "id": "acacae14-69fe-4bbc-94b5-8b2c7a33e54f",
   "metadata": {
    "tags": []
   },
   "outputs": [],
   "source": [
    "model = tf.keras.models.Sequential([\n",
    "    tf.keras.layers.Flatten(input_shape=(28,28)),\n",
    "    tf.keras.layers.Dense(128, activation='relu'),\n",
    "    tf.keras.layers.Dropout(0.2),\n",
    "    tf.keras.layers.Dense(10,activation='softmax')\n",
    "])"
   ]
  },
  {
   "cell_type": "markdown",
   "id": "bd0d8c63-e5b4-48c1-ae84-5ab88952d2b6",
   "metadata": {},
   "source": [
    "### summary of model\n",
    "784+1(bias) * 128 = 100480  \n",
    "128+1(bias) * 10 = 1290"
   ]
  },
  {
   "cell_type": "code",
   "execution_count": 7,
   "id": "aa260c76-658c-4d1d-b4d6-89b18ae88d1f",
   "metadata": {},
   "outputs": [
    {
     "name": "stdout",
     "output_type": "stream",
     "text": [
      "Model: \"sequential\"\n",
      "_________________________________________________________________\n",
      "Layer (type)                 Output Shape              Param #   \n",
      "=================================================================\n",
      "flatten (Flatten)            (None, 784)               0         \n",
      "_________________________________________________________________\n",
      "dense (Dense)                (None, 128)               100480    \n",
      "_________________________________________________________________\n",
      "dropout (Dropout)            (None, 128)               0         \n",
      "_________________________________________________________________\n",
      "dense_1 (Dense)              (None, 10)                1290      \n",
      "=================================================================\n",
      "Total params: 101,770\n",
      "Trainable params: 101,770\n",
      "Non-trainable params: 0\n",
      "_________________________________________________________________\n"
     ]
    }
   ],
   "source": [
    "model.summary()"
   ]
  },
  {
   "cell_type": "markdown",
   "id": "80c30626-4d01-4dd1-a498-857fcbb81010",
   "metadata": {},
   "source": [
    "## Specify optimizer and a loss function\n",
    "ref: https://keras.io/getting_started/intro_to_keras_for_engineers/#training-models-with-fit  \n",
    "for loss function(great article!!):  https://gombru.github.io/2018/05/23/cross_entropy_loss/  "
   ]
  },
  {
   "cell_type": "code",
   "execution_count": 8,
   "id": "3b5151b9-ce83-4e68-ad38-cd507707404c",
   "metadata": {},
   "outputs": [],
   "source": [
    "model.compile(optimizer='adam',\n",
    "              loss='sparse_categorical_crossentropy',\n",
    "              metrics = ['accuracy'])"
   ]
  },
  {
   "cell_type": "markdown",
   "id": "f5e9ab58-431b-40d8-af55-53f2c16b1889",
   "metadata": {},
   "source": [
    "## Start fitting process"
   ]
  },
  {
   "cell_type": "code",
   "execution_count": 9,
   "id": "7c6f0f64-d989-4f4e-92a3-27787992d6bd",
   "metadata": {},
   "outputs": [
    {
     "name": "stdout",
     "output_type": "stream",
     "text": [
      "Epoch 1/10\n",
      "1875/1875 [==============================] - 2s 914us/step - loss: 0.4928 - accuracy: 0.85591s - loss: 0.7431 - accura - ETA: 0s - loss: 0.6594 - accuracy:  - ETA: 0s - loss: 0.6171 - accuracy: 0.81 - ETA: 0s - loss: 0.6043 - accuracy: 0.82 - ETA: 0s - loss: 0.5919 - accuracy: 0.82 - ETA: 0s - loss: 0.5808 - accuracy: 0. - ETA: 0s - loss: 0.5609 - accuracy: 0. - ETA: 0s - loss: 0.5425 - accuracy: 0.84 - ETA: 0s - loss: 0.5341 - accuracy - ETA: 0s - loss: 0.5040 - accuracy: 0.\n",
      "Epoch 2/10\n",
      "1875/1875 [==============================] - 2s 946us/step - loss: 0.1498 - accuracy: 0.95531s - loss: 0.1892 - accuracy: 0.93 - ETA: 1s - loss: 0.1838 - accuracy: 0.94 - ETA: 1s - loss: 0.1785 - accuracy: 0.94 - ETA: 1s - loss: 0.1740 - accuracy - ETA: 1s - loss: 0.1629 - accuracy: 0. - ETA: 1s - loss: 0.1600 - accuracy: 0. - ETA: 1s - loss: 0.1578 - accuracy: 0.95 - ETA: 1s - loss: 0.1568 - accuracy: 0. - ETA: 1s - loss: 0.1554 - accuracy:  - ETA: 0s - loss: 0.1539 - accuracy: 0. - ETA: 0s - loss: 0.1531 - accuracy: 0. - ETA: 0s - loss: 0.1525 - accuracy: 0.95 - ETA: 0s - loss: 0.1522 - accuracy: 0.95 - ETA: 0s - loss: 0.1520 - accuracy:  - ETA: 0s - loss: 0.1513 - accuracy: 0.95 - ETA: 0s - loss: 0.1511 - accuracy: 0.95 - ETA: 0s - loss: 0.1509 - accuracy:  - ETA: 0s - loss: 0.1503 - accuracy: 0.95 - ETA: 0s - loss: 0.1501 - accuracy: 0.95 - ETA: 0s - loss: 0.1499 - accuracy: 0.95\n",
      "Epoch 3/10\n",
      "1875/1875 [==============================] - 2s 908us/step - loss: 0.1114 - accuracy: 0.96521s - loss: 0.1092 - accuracy: 0.96 - ETA: 1s - loss: 0.1140 - accuracy: 0. - ETA: 1s - loss: 0.1175 - accuracy:  - ETA: 1s - loss: 0.1163 - accuracy: 0.96 - ETA: 1s - loss: 0.1162 - accu - ETA: 0s - loss: 0.1141 - accuracy: 0. - ETA: 0s - loss: 0.1138 - accuracy: 0.96 - ETA: 0s - loss: 0.1137 - accuracy: 0.96 - ETA: 0s - loss: 0.1135 - accuracy: 0.96 - ETA: 0s - loss: 0.1133 - accuracy - ETA: 0s - loss: 0.1126 - accuracy: 0. - ETA: 0s - loss: 0.1124 - accuracy: 0.96 - ETA: 0s - loss: 0.1123 - accuracy - ETA: 0s - loss: 0.1117 - accuracy: 0.96 - ETA: 0s - loss: 0.1116 - accuracy: 0.96 - ETA: 0s - loss: 0.1115 - accuracy: 0.\n",
      "Epoch 4/10\n",
      "1875/1875 [==============================] - ETA: 0s - loss: 0.0859 - accuracy: 0.9733 ETA: 1s - loss: 0.0799 - accuracy: 0.97 - ETA: 1s - loss: 0.0804 - accuracy: 0.97 - ETA: 1s - loss: 0.0808 - accuracy:  - ETA: 0s - loss: 0.0820 - accuracy: 0.97 - ETA: 0s - loss: 0.0823 - accuracy: 0.97 - ETA: 0s - loss: 0.0826 - accuracy: 0.97 - ETA: 0s - loss: 0.0829 - accuracy: 0. - ETA: 0s - loss: 0.0835 - accuracy: 0.97 - ETA: 0s - loss: 0.0838 - accuracy: 0. - ETA: 0s - loss: 0.0843 - accura - ETA: 0s - loss: 0.0852 - ac - 2s 888us/step - loss: 0.0860 - accuracy: 0.9733\n",
      "Epoch 5/10\n",
      "1875/1875 [==============================] - 2s 930us/step - loss: 0.0759 - accuracy: 0.97681s - loss: 0.0942 - accuracy: 0.97 - ETA: 1s - loss: 0.0844 - accuracy:  - ETA: 1s - loss: 0.0780 - accu - ETA: 1s - loss: 0.0778 - accuracy - ETA: 0s - loss: 0.0776 - accuracy: 0.97 - ETA: 0s - loss: 0.0775 - accuracy: 0.97 - ETA: 0s - loss: 0.0773 - accuracy: 0. - ETA: 0s - loss: 0.0771 - accuracy: 0.97 - ETA: 0s - loss: 0.0770 - accuracy: 0.97 - ETA: 0s - loss: 0.0768 - accuracy:  - ETA: 0s - loss: 0.0764 - accuracy: 0.97 - ETA: 0s - loss: 0.0763 - accura - ETA: 0s - loss: 0.0760 - accuracy: 0.97 - ETA: 0s - loss: 0.0759 - accuracy: 0. - ETA: 0s - loss: 0.0759 - accuracy: 0.97 - ETA: 0s - loss: 0.0759 - accuracy: 0.97\n",
      "Epoch 6/10\n",
      "1875/1875 [==============================] - 2s 879us/step - loss: 0.0648 - accuracy: 0.98001s - loss: 0.0627 - accuracy: 0.98 - ETA: 1s - loss: 0.0627 - accuracy: 0.98 - ETA: 1s - loss: 0.0627 - accuracy:  - ETA: 0s - loss: 0.0627 - accuracy: 0.98 - ETA: 0s - loss: 0.0628 - accuracy: 0. - ETA: 0s - loss: 0.0629 - accuracy:  - ETA: 0s - loss: 0.0633 - accuracy: 0. - ETA: 0s - loss: 0.0636 - accuracy: 0.98 - ETA: 0s - loss: 0.0637 - accuracy - ETA: 0s - loss: 0.0642 - accuracy: 0.98 - ETA: 0s - loss: 0.0643 - accuracy: 0.98 - ETA: 0s - loss: 0.0644 - accuracy: 0. - ETA: 0s - loss: 0.0646 - accuracy: 0.98 - ETA: 0s - loss: 0.0647 - accuracy: 0.\n",
      "Epoch 7/10\n",
      "1875/1875 [==============================] - 2s 898us/step - loss: 0.0581 - accuracy: 0.98161s - loss: 0.0553 - accuracy: 0. - ETA: 1s - loss: 0.0563 - accuracy: 0. - ETA: 1s - loss: 0.0567 - accuracy: 0.98 - ETA: 1s - loss: 0.0569 - accuracy: 0. - ETA: 1s - loss: 0.0571 - accuracy - ETA: 0s - loss: 0.0573 - accuracy: 0. - ETA: 0s - loss: 0.0574 - accuracy - ETA: 0s - loss: 0.0575 - accuracy: 0.98 - ETA: 0s - loss: 0.0575 - accuracy:  - ETA: 0s - loss: 0.0577 - accuracy: 0.98 - ETA: 0s - loss: 0.0577 - accuracy: 0. - ETA: 0s - loss: 0.0578 - accuracy: 0. - ETA: 0s - loss: 0.0579 - accuracy: 0.98 - ETA: 0s - loss: 0.0580 - accuracy: 0.98 - ETA: 0s - loss: 0.0580 - accuracy: \n",
      "Epoch 8/10\n",
      "1875/1875 [==============================] - 2s 888us/step - loss: 0.0521 - accuracy: 0.98291s - loss: 0.0587 - accuracy:  - ETA: 1s - loss: 0.0516 - accuracy: 0.98 - ETA: 1s - loss: 0.0512 - accura - ETA: 1s - loss: 0.0515 - accuracy: 0.98 - ETA: 1s - loss: 0.0516 - accuracy: 0.98 - ETA: 1s - loss: 0.0517 - accuracy: 0.98 - ETA: 1s - loss: 0.0518 - accuracy: 0.98 - ETA: 1s - loss: 0.0519 - accuracy: 0. - ETA: 0s - loss: 0.0520 - accuracy: 0.98 - ETA: 0s - loss: 0.0521 - accuracy: 0.98 - ETA: 0s - loss: 0.0521 - accuracy: 0.98 - ETA: 0s - loss: 0.0522 - accuracy: 0.98 - ETA: 0s - loss: 0.0522 - accuracy:  - ETA: 0s - loss: 0.0522 - accuracy:  - ETA: 0s - loss: 0.0521 - accuracy: 0.98 - ETA: 0s - loss: 0.0521 - accuracy: 0.98 - ETA: 0s - loss: 0.0521 - accuracy: 0. - ETA: 0s - loss: 0.0521 - accuracy: 0.98 - ETA: 0s - loss: 0.0521 - accuracy: 0.98 - ETA: 0s - loss: 0.0521 - accuracy: 0.98\n",
      "Epoch 9/10\n",
      "1875/1875 [==============================] - ETA: 0s - loss: 0.0460 - accuracy: 0.9851 ETA: 1s - loss: 0.0561 - accuracy - ETA: 1s - loss: 0.0479 - accuracy: 0.98 - ETA: 1s - loss: 0.0473 - accuracy: 0.98 - ETA: 1s - loss: 0.0469 - accuracy:  - ETA: 1s - loss: 0.0455 - accuracy: 0. - ETA: 1s - loss: 0.0451 - accuracy:  - ETA: 0s - loss: 0.0447 - accuracy: 0.98 - ETA: 0s - loss: 0.0447 - accuracy:  - ETA: 0s - loss: 0.0448 - accuracy: 0.98 - ETA: 0s - loss: 0.0448 - accuracy: 0. - ETA: 0s - loss: 0.0449 - accu - ETA: 0s - loss: 0.0455 - accura - ETA: 0s - loss: 0.0461 - accuracy: 0.98 - ETA: 0s - loss: 0.0462 - accuracy: 0.98 - 2s 946us/step - loss: 0.0462 - accuracy: 0.9850\n",
      "Epoch 10/10\n",
      "1875/1875 [==============================] - 2s 885us/step - loss: 0.0443 - accuracy: 0.98531s - loss: 0.0374 - accuracy:  - ETA: 1s - loss: 0.0404 - accuracy: 0.98 - ETA: 1s - loss: 0.0411 - accuracy: 0.98 - ETA: 1s - loss: 0.0416 - accuracy: 0. - ETA: 1s - loss: 0.0420 - accuracy - ETA: 0s - loss: 0.0428 - accuracy: 0.98 - ETA: 0s - loss: 0.0430 - accuracy: 0.98 - ETA: 0s - loss: 0.0431 - accuracy: 0. - ETA: 0s - loss: 0.0434 - accura - ETA: 0s - loss: 0.0438 - accuracy: 0.98 - ETA: 0s - loss: 0.0439 - accuracy: 0.98 - ETA: 0s - loss: 0.0439 - accuracy - ETA: 0s - loss: 0.0441 - accuracy: 0.98 - ETA: 0s - loss: 0.0441 - accuracy:  - ETA: 0s - loss: 0.0443 - accuracy: 0.98\n"
     ]
    },
    {
     "data": {
      "text/plain": [
       "<tensorflow.python.keras.callbacks.History at 0x2276ca73490>"
      ]
     },
     "execution_count": 9,
     "metadata": {},
     "output_type": "execute_result"
    }
   ],
   "source": [
    "model.fit(x_train,y_train,epochs=10)"
   ]
  },
  {
   "cell_type": "markdown",
   "id": "e7992b83-2dc6-49b4-ad46-b56f78366a7a",
   "metadata": {},
   "source": [
    "## Test data"
   ]
  },
  {
   "cell_type": "markdown",
   "id": "bdc3d686-f912-40d5-8f5d-2b3e1635e43b",
   "metadata": {},
   "source": [
    "### plot test data"
   ]
  },
  {
   "cell_type": "code",
   "execution_count": 10,
   "id": "4065c405-85b9-463f-ba66-b2bdbc30fae3",
   "metadata": {},
   "outputs": [
    {
     "data": {
      "image/png": "[encoded data removed]",
      "text/plain": [
       "<Figure size 720x720 with 9 Axes>"
      ]
     },
     "metadata": {},
     "output_type": "display_data"
    }
   ],
   "source": [
    "import matplotlib.pyplot as plt\n",
    "fig2 = plt.figure(figsize=(10,10))\n",
    "fig2.patch.set_facecolor('xkcd:white')\n",
    "for i in range(9):\n",
    "    ax = plt.subplot(3,3,i+1)\n",
    "    plt.imshow(x_test[i],cmap='Greys')\n",
    "    plt.title('label: {}'.format(y_test[i]))\n",
    "    plt.axis('off')"
   ]
  },
  {
   "cell_type": "markdown",
   "id": "fb10fa35-e08b-48ef-9b48-a05ca6c9ebc9",
   "metadata": {},
   "source": [
    "### evaluate data"
   ]
  },
  {
   "cell_type": "code",
   "execution_count": 11,
   "id": "9852fb9e-1a64-42c3-a0fb-d157c8d4e2c5",
   "metadata": {
    "tags": []
   },
   "outputs": [
    {
     "name": "stdout",
     "output_type": "stream",
     "text": [
      "313/313 [==============================] - 0s 722us/step - loss: 0.0736 - accuracy: 0.9783\n"
     ]
    },
    {
     "data": {
      "text/plain": [
       "[0.07363700866699219, 0.9782999753952026]"
      ]
     },
     "execution_count": 11,
     "metadata": {},
     "output_type": "execute_result"
    }
   ],
   "source": [
    "model.evaluate(x_test,y_test)"
   ]
  },
  {
   "cell_type": "markdown",
   "id": "49a5c6e3-462d-498f-8a7c-66108e16d092",
   "metadata": {},
   "source": [
    "## Predict data\n",
    "shuffle ref: https://www.tensorflow.org/tutorials/load_data/csv#%ED%9B%88%EB%A0%A8_%ED%8F%89%EA%B0%80_%EB%B0%8F_%EC%98%88%EC%B8%A1%ED%95%98%EA%B8%B0  \n",
    "shuffle using zip: https://stackoverflow.com/questions/23289547/shuffle-two-list-at-once-with-same-order"
   ]
  },
  {
   "cell_type": "markdown",
   "id": "c380392d-225d-47be-9a79-2454916771a0",
   "metadata": {},
   "source": [
    "### shuffle test set"
   ]
  },
  {
   "cell_type": "code",
   "execution_count": 12,
   "id": "272b2fa6-293a-485a-bc6a-07e020dc6dde",
   "metadata": {},
   "outputs": [],
   "source": [
    "selectedindices = numpy.arange(x_test.shape[0])\n",
    "x_sample,y_sample = x_test[selectedindices], y_test[selectedindices] # y sample is true label"
   ]
  },
  {
   "cell_type": "markdown",
   "id": "643522fd-3b9e-45b0-bbce-00e1d83e8795",
   "metadata": {},
   "source": [
    "### display sample size"
   ]
  },
  {
   "cell_type": "code",
   "execution_count": 13,
   "id": "919380b1-2651-4138-84e7-4a6cbe0116c5",
   "metadata": {},
   "outputs": [
    {
     "name": "stdout",
     "output_type": "stream",
     "text": [
      "<class 'numpy.ndarray'>\n",
      "(9, 28, 28)\n"
     ]
    }
   ],
   "source": [
    "print(type(x_test))\n",
    "print(x_sample[:9].shape)"
   ]
  },
  {
   "cell_type": "markdown",
   "id": "c09b9274-bf39-406b-a828-6e2e9ef3b24a",
   "metadata": {},
   "source": [
    "### prediction"
   ]
  },
  {
   "cell_type": "code",
   "execution_count": 14,
   "id": "7fa7e484-53d4-4648-ab64-998ec6613172",
   "metadata": {},
   "outputs": [
    {
     "name": "stdout",
     "output_type": "stream",
     "text": [
      "(9, 10)\n",
      "[[  0.     0.     0.     0.     0.     0.     0.   100.     0.     0.  ]\n",
      " [  0.     0.   100.     0.     0.     0.     0.     0.     0.     0.  ]\n",
      " [  0.    99.91   0.     0.     0.     0.     0.     0.07   0.01   0.  ]\n",
      " [100.     0.     0.     0.     0.     0.     0.     0.     0.     0.  ]\n",
      " [  0.     0.     0.     0.    99.89   0.     0.     0.     0.     0.11]\n",
      " [  0.    99.95   0.     0.     0.     0.     0.     0.05   0.     0.  ]\n",
      " [  0.     0.     0.     0.    99.97   0.     0.     0.     0.01   0.03]\n",
      " [  0.     0.     0.     0.01   0.04   0.     0.     0.     0.    99.95]\n",
      " [  0.     0.     0.     0.     0.    99.99   0.01   0.     0.     0.  ]]\n"
     ]
    }
   ],
   "source": [
    "predictions = model.predict(x_sample[:9])\n",
    "print(predictions.shape)\n",
    "with numpy.printoptions(precision=2,suppress=True): # https://numpy.org/doc/stable/reference/generated/numpy.set_printoptions.html\n",
    "    print(100*predictions)"
   ]
  },
  {
   "cell_type": "markdown",
   "id": "dd15a9ba-a510-443e-9513-de69ec89c464",
   "metadata": {},
   "source": [
    "### prediction of most probable class names"
   ]
  },
  {
   "cell_type": "code",
   "execution_count": 15,
   "id": "cb2c93ae-9fd0-4b3b-b7de-0b3007703a3d",
   "metadata": {},
   "outputs": [
    {
     "name": "stdout",
     "output_type": "stream",
     "text": [
      "[7 2 1 0 4 1 4 9 5]\n"
     ]
    }
   ],
   "source": [
    "print(y_sample[:9])"
   ]
  },
  {
   "cell_type": "markdown",
   "id": "5e7b1ccf-3533-4670-a586-11b459082598",
   "metadata": {},
   "source": [
    "#### display most probable class names using argmax (`model.predict_classes()` is deprecated)"
   ]
  },
  {
   "cell_type": "code",
   "execution_count": 16,
   "id": "f80d3ea3-755b-4475-afdc-59fd7534879f",
   "metadata": {},
   "outputs": [
    {
     "name": "stdout",
     "output_type": "stream",
     "text": [
      "[7 2 1 0 4 1 4 9 5]\n"
     ]
    }
   ],
   "source": [
    "prediction_classes_argmax = predictions.argmax(axis=-1)\n",
    "print(prediction_classes_argmax)"
   ]
  },
  {
   "cell_type": "markdown",
   "id": "25e28834-f968-456b-b82f-f37bc0927f1a",
   "metadata": {},
   "source": [
    "### prediction with full probability map"
   ]
  },
  {
   "cell_type": "markdown",
   "id": "0cdaa554-ecb0-429e-874d-aecc853e1645",
   "metadata": {},
   "source": [
    "#### define some functions to plot data\n",
    "ref: https://www.tensorflow.org/tutorials/keras/classification?hl=ko#%EC%98%88%EC%B8%A1_%EB%A7%8C%EB%93%A4%EA%B8%B0"
   ]
  },
  {
   "cell_type": "code",
   "execution_count": 17,
   "id": "99ad1bbf-4549-489a-981d-1ca2c1ee09a9",
   "metadata": {},
   "outputs": [],
   "source": [
    "def plot_image(predictions, true_label_index, img):\n",
    "    # predictions,true_label,img = predictions_array[i],true_label_array[i],img_array[i]\n",
    "    plt.grid(False)\n",
    "    plt.xticks([])\n",
    "    plt.yticks([])\n",
    "    plt.imshow(img,cmap='Greys')\n",
    "    \n",
    "    predicted_label_index = numpy.argmax(predictions) # to select most probable label index\n",
    "    if predicted_label_index == true_label_index:\n",
    "        color = 'blue'\n",
    "    else:\n",
    "        color = 'red'\n",
    "    \n",
    "    plt.xlabel('pred:{} {:2.0f}% (true:{})'.format(class_names[predicted_label_index], 100*numpy.max(predictions), class_names[true_label_index]), color=color)\n",
    "    \n",
    "def plot_value_array(predictions, true_label_index):\n",
    "    plt.grid(False)\n",
    "    plt.xticks(class_names)\n",
    "    plt.yticks([])\n",
    "    \n",
    "    barplot = plt.bar(range(len(class_names)), predictions, color='#777777')\n",
    "    plt.ylim([0,1])\n",
    "    \n",
    "    predicted_label_index = numpy.argmax(predictions)\n",
    "    barplot[predicted_label_index].set_color('red')\n",
    "    barplot[true_label_index].set_color('blue')"
   ]
  },
  {
   "cell_type": "markdown",
   "id": "fd8fad3f-97e7-4a0f-b488-f9d62a5581fa",
   "metadata": {},
   "source": [
    "#### display all probability"
   ]
  },
  {
   "cell_type": "code",
   "execution_count": 18,
   "id": "23ef17b7-bfe2-4254-aa27-091bb7284d09",
   "metadata": {},
   "outputs": [
    {
     "data": {
      "image/png": "[encoded data removed]",
      "text/plain": [
       "<Figure size 864x432 with 18 Axes>"
      ]
     },
     "metadata": {},
     "output_type": "display_data"
    }
   ],
   "source": [
    "def plot_Nfigs(num_cols,num_rows,x_test,y_test,predictions):\n",
    "    num_images = num_cols * num_rows\n",
    "    figN = plt.figure(figsize=(2*2*num_cols,2*num_rows)) # first 2 is figsize, second 2 is two plots\n",
    "    figN.patch.set_facecolor('xkcd:white')\n",
    "    for i in range(num_images):\n",
    "        plt.subplot(num_rows,2*num_cols,2*i+1)\n",
    "        plot_image(predictions[i],y_test[i],x_test[i])\n",
    "        plt.subplot(num_rows,2*num_cols,2*i+2)\n",
    "        plot_value_array(predictions[i],y_test[i])\n",
    "plot_Nfigs(3,3,x_sample,y_sample,predictions)"
   ]
  },
  {
   "cell_type": "markdown",
   "id": "c55381eb-b29e-4c31-b257-c9ba53665a97",
   "metadata": {},
   "source": [
    "### Display wrong predictions"
   ]
  },
  {
   "cell_type": "markdown",
   "id": "63aca24b-0ae7-408b-ab74-a28a38a11e99",
   "metadata": {},
   "source": [
    "#### define wrong result finder function"
   ]
  },
  {
   "cell_type": "code",
   "execution_count": 19,
   "id": "5a0e55a1-120d-4e51-8253-a155712375f3",
   "metadata": {},
   "outputs": [],
   "source": [
    "def wrong_results(x_test,y_test):\n",
    "    x_test_wrong = []\n",
    "    y_test_wrong = []\n",
    "    predictions_wrong = []\n",
    "    correct_results = 0\n",
    "    \n",
    "    predictions = model.predict(x_test)\n",
    "    prediction_classes_argmax = predictions.argmax(axis=-1) # predicted class_index\n",
    "    \n",
    "    for i in range(y_test.shape[0]): #length of samples\n",
    "        if y_test[i] != prediction_classes_argmax[i]:\n",
    "            x_test_wrong.append(x_test[i])\n",
    "            y_test_wrong.append(y_test[i])\n",
    "            predictions_wrong.append(predictions[i])\n",
    "        else:\n",
    "            correct_results += 1\n",
    "    x_test_wrong = numpy.array(x_test_wrong)\n",
    "    y_test_wrong = numpy.array(y_test_wrong)\n",
    "    predicitions_wrong = numpy.array(predictions_wrong)\n",
    "    return x_test_wrong, y_test_wrong, predictions_wrong, correct_results"
   ]
  },
  {
   "cell_type": "markdown",
   "id": "ed373498-ffb9-4b7c-a8ba-e44060b2b2fe",
   "metadata": {},
   "source": [
    "#### plot wrong results"
   ]
  },
  {
   "cell_type": "code",
   "execution_count": 20,
   "id": "d2cc6bf9-2872-48b2-b7c8-cbb24f01253b",
   "metadata": {},
   "outputs": [
    {
     "name": "stdout",
     "output_type": "stream",
     "text": [
      "10000\n",
      "9783\n",
      "217\n",
      "9\n"
     ]
    },
    {
     "data": {
      "image/png": "[encoded data removed]",
      "text/plain": [
       "<Figure size 864x432 with 18 Axes>"
      ]
     },
     "metadata": {},
     "output_type": "display_data"
    }
   ],
   "source": [
    "x_wrong, y_wrong, predictions_wrong, correct_results=wrong_results(x_test,y_test)\n",
    "print(y_test.shape[0])\n",
    "print(correct_results)\n",
    "print(y_wrong.shape[0])\n",
    "\n",
    "N = min(9, y_wrong.shape[0])\n",
    "print(N)\n",
    "if N==9:\n",
    "    plot_Nfigs(3,3,x_wrong,y_wrong,predictions_wrong)"
   ]
  }
 ],
 "metadata": {
  "kernelspec": {
   "display_name": "Python 3",
   "language": "python",
   "name": "python3"
  },
  "language_info": {
   "codemirror_mode": {
    "name": "ipython",
    "version": 3
   },
   "file_extension": ".py",
   "mimetype": "text/x-python",
   "name": "python",
   "nbconvert_exporter": "python",
   "pygments_lexer": "ipython3",
   "version": "3.8.8"
  }
 },
 "nbformat": 4,
 "nbformat_minor": 5
}
